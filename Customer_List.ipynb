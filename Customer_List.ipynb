{
  "nbformat": 4,
  "nbformat_minor": 0,
  "metadata": {
    "colab": {
      "provenance": [],
      "authorship_tag": "ABX9TyOBwucwxk0TARFp0agreadC",
      "include_colab_link": true
    },
    "kernelspec": {
      "name": "python3",
      "display_name": "Python 3"
    },
    "language_info": {
      "name": "python"
    }
  },
  "cells": [
    {
      "cell_type": "markdown",
      "metadata": {
        "id": "view-in-github",
        "colab_type": "text"
      },
      "source": [
        "<a href=\"https://colab.research.google.com/github/nisasafitri/Latihan-Python/blob/main/Customer_List.ipynb\" target=\"_parent\"><img src=\"https://colab.research.google.com/assets/colab-badge.svg\" alt=\"Open In Colab\"/></a>"
      ]
    },
    {
      "cell_type": "code",
      "execution_count": 1,
      "metadata": {
        "id": "xtDo-DPDYeDQ"
      },
      "outputs": [],
      "source": [
        "import pandas as pd\n",
        "import numpy as np\n"
      ]
    },
    {
      "cell_type": "code",
      "source": [
        "df = pd.read_csv('customer_list.csv')"
      ],
      "metadata": {
        "id": "f_mdGUrgY3IP"
      },
      "execution_count": 2,
      "outputs": []
    },
    {
      "cell_type": "code",
      "source": [
        "df.head(5)"
      ],
      "metadata": {
        "colab": {
          "base_uri": "https://localhost:8080/",
          "height": 490
        },
        "id": "0zQQ29OCZEBc",
        "outputId": "798bf337-a17b-4cf8-f1ce-1ab26a394f0a"
      },
      "execution_count": 3,
      "outputs": [
        {
          "output_type": "execute_result",
          "data": {
            "text/plain": [
              "  first_name  last_name  gender  past_3_years_bike_related_purchases  \\\n",
              "0    Chickie    Brister    Male                                   86   \n",
              "1      Morly     Genery    Male                                   69   \n",
              "2    Ardelis  Forrester  Female                                   10   \n",
              "3     Lucine      Stutt  Female                                   64   \n",
              "4    Melinda     Hadlee  Female                                   34   \n",
              "\n",
              "          DOB                   job_title job_industry_category  \\\n",
              "0  12-07-1957             General Manager         Manufacturing   \n",
              "1  22-03-1970         Structural Engineer              Property   \n",
              "2  28-08-1974      Senior Cost Accountant    Financial Services   \n",
              "3  28-01-1979  Account Representative III         Manufacturing   \n",
              "4  21-09-1965           Financial Analyst    Financial Services   \n",
              "\n",
              "      wealth_segment deceased_indicator owns_car  ...  state    country  \\\n",
              "0      Mass Customer                  N      Yes  ...    QLD  Australia   \n",
              "1      Mass Customer                  N       No  ...    NSW  Australia   \n",
              "2  Affluent Customer                  N       No  ...    VIC  Australia   \n",
              "3  Affluent Customer                  N      Yes  ...    QLD  Australia   \n",
              "4  Affluent Customer                  N       No  ...    NSW  Australia   \n",
              "\n",
              "   property_valuation Unnamed: 16 Unnamed: 17  Unnamed: 18  Unnamed: 19  \\\n",
              "0                   6        0.68        0.85       1.0625     0.903125   \n",
              "1                  11        0.58        0.58       0.7250     0.616250   \n",
              "2                   5        0.72        0.72       0.7200     0.720000   \n",
              "3                   1        0.92        1.15       1.1500     1.150000   \n",
              "4                   9        0.47        0.47       0.5875     0.587500   \n",
              "\n",
              "   Unnamed: 20  Rank     Value  \n",
              "0            1     1  1.718750  \n",
              "1            1     1  1.718750  \n",
              "2            1     1  1.718750  \n",
              "3            4     4  1.703125  \n",
              "4            4     4  1.703125  \n",
              "\n",
              "[5 rows x 23 columns]"
            ],
            "text/html": [
              "\n",
              "  <div id=\"df-224f9181-b711-4045-a4bd-bb1870ef1a9a\">\n",
              "    <div class=\"colab-df-container\">\n",
              "      <div>\n",
              "<style scoped>\n",
              "    .dataframe tbody tr th:only-of-type {\n",
              "        vertical-align: middle;\n",
              "    }\n",
              "\n",
              "    .dataframe tbody tr th {\n",
              "        vertical-align: top;\n",
              "    }\n",
              "\n",
              "    .dataframe thead th {\n",
              "        text-align: right;\n",
              "    }\n",
              "</style>\n",
              "<table border=\"1\" class=\"dataframe\">\n",
              "  <thead>\n",
              "    <tr style=\"text-align: right;\">\n",
              "      <th></th>\n",
              "      <th>first_name</th>\n",
              "      <th>last_name</th>\n",
              "      <th>gender</th>\n",
              "      <th>past_3_years_bike_related_purchases</th>\n",
              "      <th>DOB</th>\n",
              "      <th>job_title</th>\n",
              "      <th>job_industry_category</th>\n",
              "      <th>wealth_segment</th>\n",
              "      <th>deceased_indicator</th>\n",
              "      <th>owns_car</th>\n",
              "      <th>...</th>\n",
              "      <th>state</th>\n",
              "      <th>country</th>\n",
              "      <th>property_valuation</th>\n",
              "      <th>Unnamed: 16</th>\n",
              "      <th>Unnamed: 17</th>\n",
              "      <th>Unnamed: 18</th>\n",
              "      <th>Unnamed: 19</th>\n",
              "      <th>Unnamed: 20</th>\n",
              "      <th>Rank</th>\n",
              "      <th>Value</th>\n",
              "    </tr>\n",
              "  </thead>\n",
              "  <tbody>\n",
              "    <tr>\n",
              "      <th>0</th>\n",
              "      <td>Chickie</td>\n",
              "      <td>Brister</td>\n",
              "      <td>Male</td>\n",
              "      <td>86</td>\n",
              "      <td>12-07-1957</td>\n",
              "      <td>General Manager</td>\n",
              "      <td>Manufacturing</td>\n",
              "      <td>Mass Customer</td>\n",
              "      <td>N</td>\n",
              "      <td>Yes</td>\n",
              "      <td>...</td>\n",
              "      <td>QLD</td>\n",
              "      <td>Australia</td>\n",
              "      <td>6</td>\n",
              "      <td>0.68</td>\n",
              "      <td>0.85</td>\n",
              "      <td>1.0625</td>\n",
              "      <td>0.903125</td>\n",
              "      <td>1</td>\n",
              "      <td>1</td>\n",
              "      <td>1.718750</td>\n",
              "    </tr>\n",
              "    <tr>\n",
              "      <th>1</th>\n",
              "      <td>Morly</td>\n",
              "      <td>Genery</td>\n",
              "      <td>Male</td>\n",
              "      <td>69</td>\n",
              "      <td>22-03-1970</td>\n",
              "      <td>Structural Engineer</td>\n",
              "      <td>Property</td>\n",
              "      <td>Mass Customer</td>\n",
              "      <td>N</td>\n",
              "      <td>No</td>\n",
              "      <td>...</td>\n",
              "      <td>NSW</td>\n",
              "      <td>Australia</td>\n",
              "      <td>11</td>\n",
              "      <td>0.58</td>\n",
              "      <td>0.58</td>\n",
              "      <td>0.7250</td>\n",
              "      <td>0.616250</td>\n",
              "      <td>1</td>\n",
              "      <td>1</td>\n",
              "      <td>1.718750</td>\n",
              "    </tr>\n",
              "    <tr>\n",
              "      <th>2</th>\n",
              "      <td>Ardelis</td>\n",
              "      <td>Forrester</td>\n",
              "      <td>Female</td>\n",
              "      <td>10</td>\n",
              "      <td>28-08-1974</td>\n",
              "      <td>Senior Cost Accountant</td>\n",
              "      <td>Financial Services</td>\n",
              "      <td>Affluent Customer</td>\n",
              "      <td>N</td>\n",
              "      <td>No</td>\n",
              "      <td>...</td>\n",
              "      <td>VIC</td>\n",
              "      <td>Australia</td>\n",
              "      <td>5</td>\n",
              "      <td>0.72</td>\n",
              "      <td>0.72</td>\n",
              "      <td>0.7200</td>\n",
              "      <td>0.720000</td>\n",
              "      <td>1</td>\n",
              "      <td>1</td>\n",
              "      <td>1.718750</td>\n",
              "    </tr>\n",
              "    <tr>\n",
              "      <th>3</th>\n",
              "      <td>Lucine</td>\n",
              "      <td>Stutt</td>\n",
              "      <td>Female</td>\n",
              "      <td>64</td>\n",
              "      <td>28-01-1979</td>\n",
              "      <td>Account Representative III</td>\n",
              "      <td>Manufacturing</td>\n",
              "      <td>Affluent Customer</td>\n",
              "      <td>N</td>\n",
              "      <td>Yes</td>\n",
              "      <td>...</td>\n",
              "      <td>QLD</td>\n",
              "      <td>Australia</td>\n",
              "      <td>1</td>\n",
              "      <td>0.92</td>\n",
              "      <td>1.15</td>\n",
              "      <td>1.1500</td>\n",
              "      <td>1.150000</td>\n",
              "      <td>4</td>\n",
              "      <td>4</td>\n",
              "      <td>1.703125</td>\n",
              "    </tr>\n",
              "    <tr>\n",
              "      <th>4</th>\n",
              "      <td>Melinda</td>\n",
              "      <td>Hadlee</td>\n",
              "      <td>Female</td>\n",
              "      <td>34</td>\n",
              "      <td>21-09-1965</td>\n",
              "      <td>Financial Analyst</td>\n",
              "      <td>Financial Services</td>\n",
              "      <td>Affluent Customer</td>\n",
              "      <td>N</td>\n",
              "      <td>No</td>\n",
              "      <td>...</td>\n",
              "      <td>NSW</td>\n",
              "      <td>Australia</td>\n",
              "      <td>9</td>\n",
              "      <td>0.47</td>\n",
              "      <td>0.47</td>\n",
              "      <td>0.5875</td>\n",
              "      <td>0.587500</td>\n",
              "      <td>4</td>\n",
              "      <td>4</td>\n",
              "      <td>1.703125</td>\n",
              "    </tr>\n",
              "  </tbody>\n",
              "</table>\n",
              "<p>5 rows × 23 columns</p>\n",
              "</div>\n",
              "      <button class=\"colab-df-convert\" onclick=\"convertToInteractive('df-224f9181-b711-4045-a4bd-bb1870ef1a9a')\"\n",
              "              title=\"Convert this dataframe to an interactive table.\"\n",
              "              style=\"display:none;\">\n",
              "        \n",
              "  <svg xmlns=\"http://www.w3.org/2000/svg\" height=\"24px\"viewBox=\"0 0 24 24\"\n",
              "       width=\"24px\">\n",
              "    <path d=\"M0 0h24v24H0V0z\" fill=\"none\"/>\n",
              "    <path d=\"M18.56 5.44l.94 2.06.94-2.06 2.06-.94-2.06-.94-.94-2.06-.94 2.06-2.06.94zm-11 1L8.5 8.5l.94-2.06 2.06-.94-2.06-.94L8.5 2.5l-.94 2.06-2.06.94zm10 10l.94 2.06.94-2.06 2.06-.94-2.06-.94-.94-2.06-.94 2.06-2.06.94z\"/><path d=\"M17.41 7.96l-1.37-1.37c-.4-.4-.92-.59-1.43-.59-.52 0-1.04.2-1.43.59L10.3 9.45l-7.72 7.72c-.78.78-.78 2.05 0 2.83L4 21.41c.39.39.9.59 1.41.59.51 0 1.02-.2 1.41-.59l7.78-7.78 2.81-2.81c.8-.78.8-2.07 0-2.86zM5.41 20L4 18.59l7.72-7.72 1.47 1.35L5.41 20z\"/>\n",
              "  </svg>\n",
              "      </button>\n",
              "      \n",
              "  <style>\n",
              "    .colab-df-container {\n",
              "      display:flex;\n",
              "      flex-wrap:wrap;\n",
              "      gap: 12px;\n",
              "    }\n",
              "\n",
              "    .colab-df-convert {\n",
              "      background-color: #E8F0FE;\n",
              "      border: none;\n",
              "      border-radius: 50%;\n",
              "      cursor: pointer;\n",
              "      display: none;\n",
              "      fill: #1967D2;\n",
              "      height: 32px;\n",
              "      padding: 0 0 0 0;\n",
              "      width: 32px;\n",
              "    }\n",
              "\n",
              "    .colab-df-convert:hover {\n",
              "      background-color: #E2EBFA;\n",
              "      box-shadow: 0px 1px 2px rgba(60, 64, 67, 0.3), 0px 1px 3px 1px rgba(60, 64, 67, 0.15);\n",
              "      fill: #174EA6;\n",
              "    }\n",
              "\n",
              "    [theme=dark] .colab-df-convert {\n",
              "      background-color: #3B4455;\n",
              "      fill: #D2E3FC;\n",
              "    }\n",
              "\n",
              "    [theme=dark] .colab-df-convert:hover {\n",
              "      background-color: #434B5C;\n",
              "      box-shadow: 0px 1px 3px 1px rgba(0, 0, 0, 0.15);\n",
              "      filter: drop-shadow(0px 1px 2px rgba(0, 0, 0, 0.3));\n",
              "      fill: #FFFFFF;\n",
              "    }\n",
              "  </style>\n",
              "\n",
              "      <script>\n",
              "        const buttonEl =\n",
              "          document.querySelector('#df-224f9181-b711-4045-a4bd-bb1870ef1a9a button.colab-df-convert');\n",
              "        buttonEl.style.display =\n",
              "          google.colab.kernel.accessAllowed ? 'block' : 'none';\n",
              "\n",
              "        async function convertToInteractive(key) {\n",
              "          const element = document.querySelector('#df-224f9181-b711-4045-a4bd-bb1870ef1a9a');\n",
              "          const dataTable =\n",
              "            await google.colab.kernel.invokeFunction('convertToInteractive',\n",
              "                                                     [key], {});\n",
              "          if (!dataTable) return;\n",
              "\n",
              "          const docLinkHtml = 'Like what you see? Visit the ' +\n",
              "            '<a target=\"_blank\" href=https://colab.research.google.com/notebooks/data_table.ipynb>data table notebook</a>'\n",
              "            + ' to learn more about interactive tables.';\n",
              "          element.innerHTML = '';\n",
              "          dataTable['output_type'] = 'display_data';\n",
              "          await google.colab.output.renderOutput(dataTable, element);\n",
              "          const docLink = document.createElement('div');\n",
              "          docLink.innerHTML = docLinkHtml;\n",
              "          element.appendChild(docLink);\n",
              "        }\n",
              "      </script>\n",
              "    </div>\n",
              "  </div>\n",
              "  "
            ]
          },
          "metadata": {},
          "execution_count": 3
        }
      ]
    },
    {
      "cell_type": "code",
      "source": [
        "df.tail(5)"
      ],
      "metadata": {
        "colab": {
          "base_uri": "https://localhost:8080/",
          "height": 490
        },
        "id": "_TePdgLGZVWE",
        "outputId": "c3e17276-e620-4e17-fad6-a06165350121"
      },
      "execution_count": 4,
      "outputs": [
        {
          "output_type": "execute_result",
          "data": {
            "text/plain": [
              "    first_name  last_name  gender  past_3_years_bike_related_purchases  \\\n",
              "995  Ferdinand  Romanetti    Male                                   60   \n",
              "996       Burk    Wortley    Male                                   22   \n",
              "997   Melloney      Temby  Female                                   17   \n",
              "998     Dickie    Cubbini    Male                                   30   \n",
              "999      Sylas    Duffill    Male                                   56   \n",
              "\n",
              "            DOB                     job_title job_industry_category  \\\n",
              "995  07-10-1959                     Paralegal    Financial Services   \n",
              "996  17-10-2001        Senior Sales Associate                Health   \n",
              "997  05-10-1954  Budget/Accounting Analyst IV    Financial Services   \n",
              "998  17-12-1952             Financial Advisor    Financial Services   \n",
              "999  02-10-1955           Staff Accountant IV              Property   \n",
              "\n",
              "        wealth_segment deceased_indicator owns_car  ...  state    country  \\\n",
              "995  Affluent Customer                  N       No  ...    NSW  Australia   \n",
              "996      Mass Customer                  N       No  ...    NSW  Australia   \n",
              "997  Affluent Customer                  N      Yes  ...    QLD  Australia   \n",
              "998      Mass Customer                  N      Yes  ...    QLD  Australia   \n",
              "999      Mass Customer                  N      Yes  ...    NSW  Australia   \n",
              "\n",
              "     property_valuation Unnamed: 16 Unnamed: 17  Unnamed: 18  Unnamed: 19  \\\n",
              "995                   7        0.80       0.800      0.80000     0.800000   \n",
              "996                  10        0.95       0.950      1.18750     1.009375   \n",
              "997                   2        0.52       0.650      0.65000     0.650000   \n",
              "998                   2        1.08       1.350      1.35000     1.147500   \n",
              "999                   9        0.78       0.975      1.21875     1.035937   \n",
              "\n",
              "     Unnamed: 20  Rank  Value  \n",
              "995          996   996  0.374  \n",
              "996          997   997  0.357  \n",
              "997          997   997  0.357  \n",
              "998          997   997  0.357  \n",
              "999         1000  1000  0.340  \n",
              "\n",
              "[5 rows x 23 columns]"
            ],
            "text/html": [
              "\n",
              "  <div id=\"df-6f980fee-3654-4f30-a1e9-eafb4512fd6a\">\n",
              "    <div class=\"colab-df-container\">\n",
              "      <div>\n",
              "<style scoped>\n",
              "    .dataframe tbody tr th:only-of-type {\n",
              "        vertical-align: middle;\n",
              "    }\n",
              "\n",
              "    .dataframe tbody tr th {\n",
              "        vertical-align: top;\n",
              "    }\n",
              "\n",
              "    .dataframe thead th {\n",
              "        text-align: right;\n",
              "    }\n",
              "</style>\n",
              "<table border=\"1\" class=\"dataframe\">\n",
              "  <thead>\n",
              "    <tr style=\"text-align: right;\">\n",
              "      <th></th>\n",
              "      <th>first_name</th>\n",
              "      <th>last_name</th>\n",
              "      <th>gender</th>\n",
              "      <th>past_3_years_bike_related_purchases</th>\n",
              "      <th>DOB</th>\n",
              "      <th>job_title</th>\n",
              "      <th>job_industry_category</th>\n",
              "      <th>wealth_segment</th>\n",
              "      <th>deceased_indicator</th>\n",
              "      <th>owns_car</th>\n",
              "      <th>...</th>\n",
              "      <th>state</th>\n",
              "      <th>country</th>\n",
              "      <th>property_valuation</th>\n",
              "      <th>Unnamed: 16</th>\n",
              "      <th>Unnamed: 17</th>\n",
              "      <th>Unnamed: 18</th>\n",
              "      <th>Unnamed: 19</th>\n",
              "      <th>Unnamed: 20</th>\n",
              "      <th>Rank</th>\n",
              "      <th>Value</th>\n",
              "    </tr>\n",
              "  </thead>\n",
              "  <tbody>\n",
              "    <tr>\n",
              "      <th>995</th>\n",
              "      <td>Ferdinand</td>\n",
              "      <td>Romanetti</td>\n",
              "      <td>Male</td>\n",
              "      <td>60</td>\n",
              "      <td>07-10-1959</td>\n",
              "      <td>Paralegal</td>\n",
              "      <td>Financial Services</td>\n",
              "      <td>Affluent Customer</td>\n",
              "      <td>N</td>\n",
              "      <td>No</td>\n",
              "      <td>...</td>\n",
              "      <td>NSW</td>\n",
              "      <td>Australia</td>\n",
              "      <td>7</td>\n",
              "      <td>0.80</td>\n",
              "      <td>0.800</td>\n",
              "      <td>0.80000</td>\n",
              "      <td>0.800000</td>\n",
              "      <td>996</td>\n",
              "      <td>996</td>\n",
              "      <td>0.374</td>\n",
              "    </tr>\n",
              "    <tr>\n",
              "      <th>996</th>\n",
              "      <td>Burk</td>\n",
              "      <td>Wortley</td>\n",
              "      <td>Male</td>\n",
              "      <td>22</td>\n",
              "      <td>17-10-2001</td>\n",
              "      <td>Senior Sales Associate</td>\n",
              "      <td>Health</td>\n",
              "      <td>Mass Customer</td>\n",
              "      <td>N</td>\n",
              "      <td>No</td>\n",
              "      <td>...</td>\n",
              "      <td>NSW</td>\n",
              "      <td>Australia</td>\n",
              "      <td>10</td>\n",
              "      <td>0.95</td>\n",
              "      <td>0.950</td>\n",
              "      <td>1.18750</td>\n",
              "      <td>1.009375</td>\n",
              "      <td>997</td>\n",
              "      <td>997</td>\n",
              "      <td>0.357</td>\n",
              "    </tr>\n",
              "    <tr>\n",
              "      <th>997</th>\n",
              "      <td>Melloney</td>\n",
              "      <td>Temby</td>\n",
              "      <td>Female</td>\n",
              "      <td>17</td>\n",
              "      <td>05-10-1954</td>\n",
              "      <td>Budget/Accounting Analyst IV</td>\n",
              "      <td>Financial Services</td>\n",
              "      <td>Affluent Customer</td>\n",
              "      <td>N</td>\n",
              "      <td>Yes</td>\n",
              "      <td>...</td>\n",
              "      <td>QLD</td>\n",
              "      <td>Australia</td>\n",
              "      <td>2</td>\n",
              "      <td>0.52</td>\n",
              "      <td>0.650</td>\n",
              "      <td>0.65000</td>\n",
              "      <td>0.650000</td>\n",
              "      <td>997</td>\n",
              "      <td>997</td>\n",
              "      <td>0.357</td>\n",
              "    </tr>\n",
              "    <tr>\n",
              "      <th>998</th>\n",
              "      <td>Dickie</td>\n",
              "      <td>Cubbini</td>\n",
              "      <td>Male</td>\n",
              "      <td>30</td>\n",
              "      <td>17-12-1952</td>\n",
              "      <td>Financial Advisor</td>\n",
              "      <td>Financial Services</td>\n",
              "      <td>Mass Customer</td>\n",
              "      <td>N</td>\n",
              "      <td>Yes</td>\n",
              "      <td>...</td>\n",
              "      <td>QLD</td>\n",
              "      <td>Australia</td>\n",
              "      <td>2</td>\n",
              "      <td>1.08</td>\n",
              "      <td>1.350</td>\n",
              "      <td>1.35000</td>\n",
              "      <td>1.147500</td>\n",
              "      <td>997</td>\n",
              "      <td>997</td>\n",
              "      <td>0.357</td>\n",
              "    </tr>\n",
              "    <tr>\n",
              "      <th>999</th>\n",
              "      <td>Sylas</td>\n",
              "      <td>Duffill</td>\n",
              "      <td>Male</td>\n",
              "      <td>56</td>\n",
              "      <td>02-10-1955</td>\n",
              "      <td>Staff Accountant IV</td>\n",
              "      <td>Property</td>\n",
              "      <td>Mass Customer</td>\n",
              "      <td>N</td>\n",
              "      <td>Yes</td>\n",
              "      <td>...</td>\n",
              "      <td>NSW</td>\n",
              "      <td>Australia</td>\n",
              "      <td>9</td>\n",
              "      <td>0.78</td>\n",
              "      <td>0.975</td>\n",
              "      <td>1.21875</td>\n",
              "      <td>1.035937</td>\n",
              "      <td>1000</td>\n",
              "      <td>1000</td>\n",
              "      <td>0.340</td>\n",
              "    </tr>\n",
              "  </tbody>\n",
              "</table>\n",
              "<p>5 rows × 23 columns</p>\n",
              "</div>\n",
              "      <button class=\"colab-df-convert\" onclick=\"convertToInteractive('df-6f980fee-3654-4f30-a1e9-eafb4512fd6a')\"\n",
              "              title=\"Convert this dataframe to an interactive table.\"\n",
              "              style=\"display:none;\">\n",
              "        \n",
              "  <svg xmlns=\"http://www.w3.org/2000/svg\" height=\"24px\"viewBox=\"0 0 24 24\"\n",
              "       width=\"24px\">\n",
              "    <path d=\"M0 0h24v24H0V0z\" fill=\"none\"/>\n",
              "    <path d=\"M18.56 5.44l.94 2.06.94-2.06 2.06-.94-2.06-.94-.94-2.06-.94 2.06-2.06.94zm-11 1L8.5 8.5l.94-2.06 2.06-.94-2.06-.94L8.5 2.5l-.94 2.06-2.06.94zm10 10l.94 2.06.94-2.06 2.06-.94-2.06-.94-.94-2.06-.94 2.06-2.06.94z\"/><path d=\"M17.41 7.96l-1.37-1.37c-.4-.4-.92-.59-1.43-.59-.52 0-1.04.2-1.43.59L10.3 9.45l-7.72 7.72c-.78.78-.78 2.05 0 2.83L4 21.41c.39.39.9.59 1.41.59.51 0 1.02-.2 1.41-.59l7.78-7.78 2.81-2.81c.8-.78.8-2.07 0-2.86zM5.41 20L4 18.59l7.72-7.72 1.47 1.35L5.41 20z\"/>\n",
              "  </svg>\n",
              "      </button>\n",
              "      \n",
              "  <style>\n",
              "    .colab-df-container {\n",
              "      display:flex;\n",
              "      flex-wrap:wrap;\n",
              "      gap: 12px;\n",
              "    }\n",
              "\n",
              "    .colab-df-convert {\n",
              "      background-color: #E8F0FE;\n",
              "      border: none;\n",
              "      border-radius: 50%;\n",
              "      cursor: pointer;\n",
              "      display: none;\n",
              "      fill: #1967D2;\n",
              "      height: 32px;\n",
              "      padding: 0 0 0 0;\n",
              "      width: 32px;\n",
              "    }\n",
              "\n",
              "    .colab-df-convert:hover {\n",
              "      background-color: #E2EBFA;\n",
              "      box-shadow: 0px 1px 2px rgba(60, 64, 67, 0.3), 0px 1px 3px 1px rgba(60, 64, 67, 0.15);\n",
              "      fill: #174EA6;\n",
              "    }\n",
              "\n",
              "    [theme=dark] .colab-df-convert {\n",
              "      background-color: #3B4455;\n",
              "      fill: #D2E3FC;\n",
              "    }\n",
              "\n",
              "    [theme=dark] .colab-df-convert:hover {\n",
              "      background-color: #434B5C;\n",
              "      box-shadow: 0px 1px 3px 1px rgba(0, 0, 0, 0.15);\n",
              "      filter: drop-shadow(0px 1px 2px rgba(0, 0, 0, 0.3));\n",
              "      fill: #FFFFFF;\n",
              "    }\n",
              "  </style>\n",
              "\n",
              "      <script>\n",
              "        const buttonEl =\n",
              "          document.querySelector('#df-6f980fee-3654-4f30-a1e9-eafb4512fd6a button.colab-df-convert');\n",
              "        buttonEl.style.display =\n",
              "          google.colab.kernel.accessAllowed ? 'block' : 'none';\n",
              "\n",
              "        async function convertToInteractive(key) {\n",
              "          const element = document.querySelector('#df-6f980fee-3654-4f30-a1e9-eafb4512fd6a');\n",
              "          const dataTable =\n",
              "            await google.colab.kernel.invokeFunction('convertToInteractive',\n",
              "                                                     [key], {});\n",
              "          if (!dataTable) return;\n",
              "\n",
              "          const docLinkHtml = 'Like what you see? Visit the ' +\n",
              "            '<a target=\"_blank\" href=https://colab.research.google.com/notebooks/data_table.ipynb>data table notebook</a>'\n",
              "            + ' to learn more about interactive tables.';\n",
              "          element.innerHTML = '';\n",
              "          dataTable['output_type'] = 'display_data';\n",
              "          await google.colab.output.renderOutput(dataTable, element);\n",
              "          const docLink = document.createElement('div');\n",
              "          docLink.innerHTML = docLinkHtml;\n",
              "          element.appendChild(docLink);\n",
              "        }\n",
              "      </script>\n",
              "    </div>\n",
              "  </div>\n",
              "  "
            ]
          },
          "metadata": {},
          "execution_count": 4
        }
      ]
    },
    {
      "cell_type": "code",
      "source": [
        "df.shape"
      ],
      "metadata": {
        "colab": {
          "base_uri": "https://localhost:8080/"
        },
        "id": "-KBpfZXvZn2a",
        "outputId": "3fbf9676-22cd-4670-a1ae-440327c3f5e7"
      },
      "execution_count": 5,
      "outputs": [
        {
          "output_type": "execute_result",
          "data": {
            "text/plain": [
              "(1000, 23)"
            ]
          },
          "metadata": {},
          "execution_count": 5
        }
      ]
    },
    {
      "cell_type": "code",
      "source": [
        "df.dtypes"
      ],
      "metadata": {
        "colab": {
          "base_uri": "https://localhost:8080/"
        },
        "id": "QEEC7LMFZrh5",
        "outputId": "756d81e8-ce4b-408b-fe61-37123ec574eb"
      },
      "execution_count": 6,
      "outputs": [
        {
          "output_type": "execute_result",
          "data": {
            "text/plain": [
              "first_name                              object\n",
              "last_name                               object\n",
              "gender                                  object\n",
              "past_3_years_bike_related_purchases      int64\n",
              "DOB                                     object\n",
              "job_title                               object\n",
              "job_industry_category                   object\n",
              "wealth_segment                          object\n",
              "deceased_indicator                      object\n",
              "owns_car                                object\n",
              "tenure                                   int64\n",
              "address                                 object\n",
              "postcode                                 int64\n",
              "state                                   object\n",
              "country                                 object\n",
              "property_valuation                       int64\n",
              "Unnamed: 16                            float64\n",
              "Unnamed: 17                            float64\n",
              "Unnamed: 18                            float64\n",
              "Unnamed: 19                            float64\n",
              "Unnamed: 20                              int64\n",
              "Rank                                     int64\n",
              "Value                                  float64\n",
              "dtype: object"
            ]
          },
          "metadata": {},
          "execution_count": 6
        }
      ]
    },
    {
      "cell_type": "code",
      "source": [
        "duplicate_rows_df = df[df.duplicated()]\n",
        "print(\"number of duplicate rows:\", duplicate_rows_df.shape)"
      ],
      "metadata": {
        "colab": {
          "base_uri": "https://localhost:8080/"
        },
        "id": "Z1DyIl6Agv1P",
        "outputId": "16dd57c0-6eec-4b34-9ed2-5e43ba6ffa64"
      },
      "execution_count": 7,
      "outputs": [
        {
          "output_type": "stream",
          "name": "stdout",
          "text": [
            "number of duplicate rows: (0, 23)\n"
          ]
        }
      ]
    },
    {
      "cell_type": "code",
      "source": [
        "print(df.isnull().sum())"
      ],
      "metadata": {
        "colab": {
          "base_uri": "https://localhost:8080/"
        },
        "id": "o-nioryAg88H",
        "outputId": "b9aa5559-9184-41f1-bd93-71da5b60c64d"
      },
      "execution_count": 8,
      "outputs": [
        {
          "output_type": "stream",
          "name": "stdout",
          "text": [
            "first_name                               0\n",
            "last_name                               29\n",
            "gender                                   0\n",
            "past_3_years_bike_related_purchases      0\n",
            "DOB                                     17\n",
            "job_title                              106\n",
            "job_industry_category                  165\n",
            "wealth_segment                           0\n",
            "deceased_indicator                       0\n",
            "owns_car                                 0\n",
            "tenure                                   0\n",
            "address                                  0\n",
            "postcode                                 0\n",
            "state                                    0\n",
            "country                                  0\n",
            "property_valuation                       0\n",
            "Unnamed: 16                              0\n",
            "Unnamed: 17                              0\n",
            "Unnamed: 18                              0\n",
            "Unnamed: 19                              0\n",
            "Unnamed: 20                              0\n",
            "Rank                                     0\n",
            "Value                                    0\n",
            "dtype: int64\n"
          ]
        }
      ]
    },
    {
      "cell_type": "code",
      "source": [
        "df = df.dropna()"
      ],
      "metadata": {
        "id": "yfMnAKa5hdEk"
      },
      "execution_count": 9,
      "outputs": []
    },
    {
      "cell_type": "code",
      "source": [
        "df.shape"
      ],
      "metadata": {
        "colab": {
          "base_uri": "https://localhost:8080/"
        },
        "id": "l96EjtZ8hkMt",
        "outputId": "1685b6b7-be35-48ad-bd24-b1497fd35ed4"
      },
      "execution_count": 10,
      "outputs": [
        {
          "output_type": "execute_result",
          "data": {
            "text/plain": [
              "(715, 23)"
            ]
          },
          "metadata": {},
          "execution_count": 10
        }
      ]
    },
    {
      "cell_type": "code",
      "source": [
        "print(df.isnull().sum())"
      ],
      "metadata": {
        "colab": {
          "base_uri": "https://localhost:8080/"
        },
        "id": "7b0CKwjgky-o",
        "outputId": "60800a4b-ea68-41d2-a826-ffbd5ca1b0ad"
      },
      "execution_count": 15,
      "outputs": [
        {
          "output_type": "stream",
          "name": "stdout",
          "text": [
            "first_name                             0\n",
            "last_name                              0\n",
            "gender                                 0\n",
            "past_3_years_bike_related_purchases    0\n",
            "DOB                                    0\n",
            "job_title                              0\n",
            "job_industry_category                  0\n",
            "wealth_segment                         0\n",
            "deceased_indicator                     0\n",
            "owns_car                               0\n",
            "tenure                                 0\n",
            "address                                0\n",
            "postcode                               0\n",
            "state                                  0\n",
            "country                                0\n",
            "property_valuation                     0\n",
            "Unnamed: 16                            0\n",
            "Unnamed: 17                            0\n",
            "Unnamed: 18                            0\n",
            "Unnamed: 19                            0\n",
            "Unnamed: 20                            0\n",
            "Rank                                   0\n",
            "Value                                  0\n",
            "dtype: int64\n"
          ]
        }
      ]
    },
    {
      "cell_type": "code",
      "source": [
        "df.rename(columns = {\"first_name\": \"First Name\", \"last_name\": \"Last Name\", \"gender\": \"Gender\", \"DOB\": \"Birthday\", \"job_title\": \"Job\", \"job_industry_category\": \"Industry\", \"wealth_segment\": \"Wealth Segment\", \"owns_car\": \"Owns Car\", \"tenure\": \"Tenure\", \"address\": \"Address\", \"postcode\": \"Postcode\", \"state\": \"State\", \"country\": \"Country\", \"property_valuation\": \"Property Valuation\"}, inplace=True)"
      ],
      "metadata": {
        "id": "IEJsz-5ynnqW"
      },
      "execution_count": 21,
      "outputs": []
    },
    {
      "cell_type": "code",
      "source": [
        "df.head()"
      ],
      "metadata": {
        "colab": {
          "base_uri": "https://localhost:8080/",
          "height": 461
        },
        "id": "HXfii0Ksq7_u",
        "outputId": "8b681b18-67f9-4ac6-fbce-f5477ae8415f"
      },
      "execution_count": 22,
      "outputs": [
        {
          "output_type": "execute_result",
          "data": {
            "text/plain": [
              "  First Name  Last Name  Gender    Birthday                         Job  \\\n",
              "0    Chickie    Brister    Male  12-07-1957             General Manager   \n",
              "1      Morly     Genery    Male  22-03-1970         Structural Engineer   \n",
              "2    Ardelis  Forrester  Female  28-08-1974      Senior Cost Accountant   \n",
              "3     Lucine      Stutt  Female  28-01-1979  Account Representative III   \n",
              "4    Melinda     Hadlee  Female  21-09-1965           Financial Analyst   \n",
              "\n",
              "             Industry     Wealth Segment Owns Car  Tenure  \\\n",
              "0       Manufacturing      Mass Customer      Yes      14   \n",
              "1            Property      Mass Customer       No      16   \n",
              "2  Financial Services  Affluent Customer       No      10   \n",
              "3       Manufacturing  Affluent Customer      Yes       5   \n",
              "4  Financial Services  Affluent Customer       No      19   \n",
              "\n",
              "               Address  Postcode State    Country  Property Valuation  Rank  \\\n",
              "0     45 Shopko Center      4500   QLD  Australia                   6     1   \n",
              "1    14 Mccormick Park      2113   NSW  Australia                  11     1   \n",
              "2  5 Colorado Crossing      3505   VIC  Australia                   5     1   \n",
              "3   207 Annamark Plaza      4814   QLD  Australia                   1     4   \n",
              "4    115 Montana Place      2093   NSW  Australia                   9     4   \n",
              "\n",
              "      Value  \n",
              "0  1.718750  \n",
              "1  1.718750  \n",
              "2  1.718750  \n",
              "3  1.703125  \n",
              "4  1.703125  "
            ],
            "text/html": [
              "\n",
              "  <div id=\"df-12c97d40-bbc2-47d6-b530-5c597502b799\">\n",
              "    <div class=\"colab-df-container\">\n",
              "      <div>\n",
              "<style scoped>\n",
              "    .dataframe tbody tr th:only-of-type {\n",
              "        vertical-align: middle;\n",
              "    }\n",
              "\n",
              "    .dataframe tbody tr th {\n",
              "        vertical-align: top;\n",
              "    }\n",
              "\n",
              "    .dataframe thead th {\n",
              "        text-align: right;\n",
              "    }\n",
              "</style>\n",
              "<table border=\"1\" class=\"dataframe\">\n",
              "  <thead>\n",
              "    <tr style=\"text-align: right;\">\n",
              "      <th></th>\n",
              "      <th>First Name</th>\n",
              "      <th>Last Name</th>\n",
              "      <th>Gender</th>\n",
              "      <th>Birthday</th>\n",
              "      <th>Job</th>\n",
              "      <th>Industry</th>\n",
              "      <th>Wealth Segment</th>\n",
              "      <th>Owns Car</th>\n",
              "      <th>Tenure</th>\n",
              "      <th>Address</th>\n",
              "      <th>Postcode</th>\n",
              "      <th>State</th>\n",
              "      <th>Country</th>\n",
              "      <th>Property Valuation</th>\n",
              "      <th>Rank</th>\n",
              "      <th>Value</th>\n",
              "    </tr>\n",
              "  </thead>\n",
              "  <tbody>\n",
              "    <tr>\n",
              "      <th>0</th>\n",
              "      <td>Chickie</td>\n",
              "      <td>Brister</td>\n",
              "      <td>Male</td>\n",
              "      <td>12-07-1957</td>\n",
              "      <td>General Manager</td>\n",
              "      <td>Manufacturing</td>\n",
              "      <td>Mass Customer</td>\n",
              "      <td>Yes</td>\n",
              "      <td>14</td>\n",
              "      <td>45 Shopko Center</td>\n",
              "      <td>4500</td>\n",
              "      <td>QLD</td>\n",
              "      <td>Australia</td>\n",
              "      <td>6</td>\n",
              "      <td>1</td>\n",
              "      <td>1.718750</td>\n",
              "    </tr>\n",
              "    <tr>\n",
              "      <th>1</th>\n",
              "      <td>Morly</td>\n",
              "      <td>Genery</td>\n",
              "      <td>Male</td>\n",
              "      <td>22-03-1970</td>\n",
              "      <td>Structural Engineer</td>\n",
              "      <td>Property</td>\n",
              "      <td>Mass Customer</td>\n",
              "      <td>No</td>\n",
              "      <td>16</td>\n",
              "      <td>14 Mccormick Park</td>\n",
              "      <td>2113</td>\n",
              "      <td>NSW</td>\n",
              "      <td>Australia</td>\n",
              "      <td>11</td>\n",
              "      <td>1</td>\n",
              "      <td>1.718750</td>\n",
              "    </tr>\n",
              "    <tr>\n",
              "      <th>2</th>\n",
              "      <td>Ardelis</td>\n",
              "      <td>Forrester</td>\n",
              "      <td>Female</td>\n",
              "      <td>28-08-1974</td>\n",
              "      <td>Senior Cost Accountant</td>\n",
              "      <td>Financial Services</td>\n",
              "      <td>Affluent Customer</td>\n",
              "      <td>No</td>\n",
              "      <td>10</td>\n",
              "      <td>5 Colorado Crossing</td>\n",
              "      <td>3505</td>\n",
              "      <td>VIC</td>\n",
              "      <td>Australia</td>\n",
              "      <td>5</td>\n",
              "      <td>1</td>\n",
              "      <td>1.718750</td>\n",
              "    </tr>\n",
              "    <tr>\n",
              "      <th>3</th>\n",
              "      <td>Lucine</td>\n",
              "      <td>Stutt</td>\n",
              "      <td>Female</td>\n",
              "      <td>28-01-1979</td>\n",
              "      <td>Account Representative III</td>\n",
              "      <td>Manufacturing</td>\n",
              "      <td>Affluent Customer</td>\n",
              "      <td>Yes</td>\n",
              "      <td>5</td>\n",
              "      <td>207 Annamark Plaza</td>\n",
              "      <td>4814</td>\n",
              "      <td>QLD</td>\n",
              "      <td>Australia</td>\n",
              "      <td>1</td>\n",
              "      <td>4</td>\n",
              "      <td>1.703125</td>\n",
              "    </tr>\n",
              "    <tr>\n",
              "      <th>4</th>\n",
              "      <td>Melinda</td>\n",
              "      <td>Hadlee</td>\n",
              "      <td>Female</td>\n",
              "      <td>21-09-1965</td>\n",
              "      <td>Financial Analyst</td>\n",
              "      <td>Financial Services</td>\n",
              "      <td>Affluent Customer</td>\n",
              "      <td>No</td>\n",
              "      <td>19</td>\n",
              "      <td>115 Montana Place</td>\n",
              "      <td>2093</td>\n",
              "      <td>NSW</td>\n",
              "      <td>Australia</td>\n",
              "      <td>9</td>\n",
              "      <td>4</td>\n",
              "      <td>1.703125</td>\n",
              "    </tr>\n",
              "  </tbody>\n",
              "</table>\n",
              "</div>\n",
              "      <button class=\"colab-df-convert\" onclick=\"convertToInteractive('df-12c97d40-bbc2-47d6-b530-5c597502b799')\"\n",
              "              title=\"Convert this dataframe to an interactive table.\"\n",
              "              style=\"display:none;\">\n",
              "        \n",
              "  <svg xmlns=\"http://www.w3.org/2000/svg\" height=\"24px\"viewBox=\"0 0 24 24\"\n",
              "       width=\"24px\">\n",
              "    <path d=\"M0 0h24v24H0V0z\" fill=\"none\"/>\n",
              "    <path d=\"M18.56 5.44l.94 2.06.94-2.06 2.06-.94-2.06-.94-.94-2.06-.94 2.06-2.06.94zm-11 1L8.5 8.5l.94-2.06 2.06-.94-2.06-.94L8.5 2.5l-.94 2.06-2.06.94zm10 10l.94 2.06.94-2.06 2.06-.94-2.06-.94-.94-2.06-.94 2.06-2.06.94z\"/><path d=\"M17.41 7.96l-1.37-1.37c-.4-.4-.92-.59-1.43-.59-.52 0-1.04.2-1.43.59L10.3 9.45l-7.72 7.72c-.78.78-.78 2.05 0 2.83L4 21.41c.39.39.9.59 1.41.59.51 0 1.02-.2 1.41-.59l7.78-7.78 2.81-2.81c.8-.78.8-2.07 0-2.86zM5.41 20L4 18.59l7.72-7.72 1.47 1.35L5.41 20z\"/>\n",
              "  </svg>\n",
              "      </button>\n",
              "      \n",
              "  <style>\n",
              "    .colab-df-container {\n",
              "      display:flex;\n",
              "      flex-wrap:wrap;\n",
              "      gap: 12px;\n",
              "    }\n",
              "\n",
              "    .colab-df-convert {\n",
              "      background-color: #E8F0FE;\n",
              "      border: none;\n",
              "      border-radius: 50%;\n",
              "      cursor: pointer;\n",
              "      display: none;\n",
              "      fill: #1967D2;\n",
              "      height: 32px;\n",
              "      padding: 0 0 0 0;\n",
              "      width: 32px;\n",
              "    }\n",
              "\n",
              "    .colab-df-convert:hover {\n",
              "      background-color: #E2EBFA;\n",
              "      box-shadow: 0px 1px 2px rgba(60, 64, 67, 0.3), 0px 1px 3px 1px rgba(60, 64, 67, 0.15);\n",
              "      fill: #174EA6;\n",
              "    }\n",
              "\n",
              "    [theme=dark] .colab-df-convert {\n",
              "      background-color: #3B4455;\n",
              "      fill: #D2E3FC;\n",
              "    }\n",
              "\n",
              "    [theme=dark] .colab-df-convert:hover {\n",
              "      background-color: #434B5C;\n",
              "      box-shadow: 0px 1px 3px 1px rgba(0, 0, 0, 0.15);\n",
              "      filter: drop-shadow(0px 1px 2px rgba(0, 0, 0, 0.3));\n",
              "      fill: #FFFFFF;\n",
              "    }\n",
              "  </style>\n",
              "\n",
              "      <script>\n",
              "        const buttonEl =\n",
              "          document.querySelector('#df-12c97d40-bbc2-47d6-b530-5c597502b799 button.colab-df-convert');\n",
              "        buttonEl.style.display =\n",
              "          google.colab.kernel.accessAllowed ? 'block' : 'none';\n",
              "\n",
              "        async function convertToInteractive(key) {\n",
              "          const element = document.querySelector('#df-12c97d40-bbc2-47d6-b530-5c597502b799');\n",
              "          const dataTable =\n",
              "            await google.colab.kernel.invokeFunction('convertToInteractive',\n",
              "                                                     [key], {});\n",
              "          if (!dataTable) return;\n",
              "\n",
              "          const docLinkHtml = 'Like what you see? Visit the ' +\n",
              "            '<a target=\"_blank\" href=https://colab.research.google.com/notebooks/data_table.ipynb>data table notebook</a>'\n",
              "            + ' to learn more about interactive tables.';\n",
              "          element.innerHTML = '';\n",
              "          dataTable['output_type'] = 'display_data';\n",
              "          await google.colab.output.renderOutput(dataTable, element);\n",
              "          const docLink = document.createElement('div');\n",
              "          docLink.innerHTML = docLinkHtml;\n",
              "          element.appendChild(docLink);\n",
              "        }\n",
              "      </script>\n",
              "    </div>\n",
              "  </div>\n",
              "  "
            ]
          },
          "metadata": {},
          "execution_count": 22
        }
      ]
    },
    {
      "cell_type": "code",
      "source": [
        "import seaborn as sns \n",
        "import warnings\n",
        "import matplotlib.pyplot as plt\n",
        "%matplotlib inline\n",
        "\n",
        "warnings.filterwarnings('ignore')\n",
        "sns.set_style('darkgrid')\n",
        "pd.set_option('display.max_columns', None)"
      ],
      "metadata": {
        "id": "saztZxL-ru2A"
      },
      "execution_count": 23,
      "outputs": []
    },
    {
      "cell_type": "code",
      "source": [
        "#Gender Analysis\n",
        "df['Gender'].value_counts().plot(kind='bar')"
      ],
      "metadata": {
        "colab": {
          "base_uri": "https://localhost:8080/",
          "height": 308
        },
        "id": "_zZ261yIr6np",
        "outputId": "d28b8282-a77b-409c-9401-dd709a37f74d"
      },
      "execution_count": 25,
      "outputs": [
        {
          "output_type": "execute_result",
          "data": {
            "text/plain": [
              "<matplotlib.axes._subplots.AxesSubplot at 0x7fd71cc5cd90>"
            ]
          },
          "metadata": {},
          "execution_count": 25
        },
        {
          "output_type": "display_data",
          "data": {
            "text/plain": [
              "<Figure size 432x288 with 1 Axes>"
            ],
            "image/png": "[encoded data removed]"
          },
          "metadata": {}
        }
      ]
    },
    {
      "cell_type": "code",
      "source": [
        "df['Gender'].value_counts()"
      ],
      "metadata": {
        "colab": {
          "base_uri": "https://localhost:8080/"
        },
        "id": "HyQTYARasZdn",
        "outputId": "7b4098b0-1280-4e75-b9ec-dba61fe4d9b7"
      },
      "execution_count": 26,
      "outputs": [
        {
          "output_type": "execute_result",
          "data": {
            "text/plain": [
              "Female    369\n",
              "Male      346\n",
              "Name: Gender, dtype: int64"
            ]
          },
          "metadata": {},
          "execution_count": 26
        }
      ]
    },
    {
      "cell_type": "markdown",
      "source": [
        "Analisis : Customer yang lebih banyak membeli sepeda adalah perempuan"
      ],
      "metadata": {
        "id": "mVkGThiAsdsD"
      }
    },
    {
      "cell_type": "code",
      "source": [
        "#Customer's Job Analysis\n",
        "df['Job'].value_counts()"
      ],
      "metadata": {
        "colab": {
          "base_uri": "https://localhost:8080/"
        },
        "id": "C0XrSulIsoU9",
        "outputId": "30702fe7-3221-42dc-c9d6-be130e4b0502"
      },
      "execution_count": 28,
      "outputs": [
        {
          "output_type": "execute_result",
          "data": {
            "text/plain": [
              "Environmental Tech             12\n",
              "Software Consultant            12\n",
              "Associate Professor            12\n",
              "Cost Accountant                12\n",
              "Junior Executive               11\n",
              "                               ..\n",
              "Web Developer II                1\n",
              "Programmer Analyst IV           1\n",
              "Media Manager I                 1\n",
              "Computer Systems Analyst IV     1\n",
              "Quality Control Specialist      1\n",
              "Name: Job, Length: 176, dtype: int64"
            ]
          },
          "metadata": {},
          "execution_count": 28
        }
      ]
    },
    {
      "cell_type": "code",
      "source": [
        "#Customer's Job Industry Analysis\n",
        "df['Industry'].value_counts().plot(kind='bar')"
      ],
      "metadata": {
        "colab": {
          "base_uri": "https://localhost:8080/",
          "height": 374
        },
        "id": "GI-h-I7ouHMx",
        "outputId": "f3e3fea1-a1e8-4da6-c505-9c8eb36f5bce"
      },
      "execution_count": 29,
      "outputs": [
        {
          "output_type": "execute_result",
          "data": {
            "text/plain": [
              "<matplotlib.axes._subplots.AxesSubplot at 0x7fd71cae0550>"
            ]
          },
          "metadata": {},
          "execution_count": 29
        },
        {
          "output_type": "display_data",
          "data": {
            "text/plain": [
              "<Figure size 432x288 with 1 Axes>"
            ],
            "image/png": "[encoded data removed]"
          },
          "metadata": {}
        }
      ]
    },
    {
      "cell_type": "code",
      "source": [
        "df['Industry'].value_counts()"
      ],
      "metadata": {
        "colab": {
          "base_uri": "https://localhost:8080/"
        },
        "id": "NoKx7QGiuTks",
        "outputId": "0b4b5b06-591c-414e-91f5-9f006ac0f56c"
      },
      "execution_count": 30,
      "outputs": [
        {
          "output_type": "execute_result",
          "data": {
            "text/plain": [
              "Financial Services    182\n",
              "Manufacturing         171\n",
              "Health                135\n",
              "Retail                 73\n",
              "Property               49\n",
              "Entertainment          32\n",
              "IT                     29\n",
              "Argiculture            23\n",
              "Telecommunications     21\n",
              "Name: Industry, dtype: int64"
            ]
          },
          "metadata": {},
          "execution_count": 30
        }
      ]
    },
    {
      "cell_type": "markdown",
      "source": [
        "Analisis : Customer yang paling banyak adalah customer yang bekerja di industri Financial Service, kedua dari industri Manufacturing, ketiga dari industri Health, keempat dari industri Retail, kelima dari industri Property, keenam dari industri Entertainment, ketujuh dari industri IT, kedelapan dari industri Agriculture, kesembilan dari industri Telecommunication"
      ],
      "metadata": {
        "id": "Ll0sTJlQuYq9"
      }
    },
    {
      "cell_type": "code",
      "source": [
        "#Wealth Segment analysis\n",
        "df['Wealth Segment'].value_counts().plot(kind='bar')"
      ],
      "metadata": {
        "colab": {
          "base_uri": "https://localhost:8080/",
          "height": 363
        },
        "id": "qF7OhOGSvbcD",
        "outputId": "963e62df-c59e-4e71-a5c9-9aed46d27393"
      },
      "execution_count": 31,
      "outputs": [
        {
          "output_type": "execute_result",
          "data": {
            "text/plain": [
              "<matplotlib.axes._subplots.AxesSubplot at 0x7fd71afdabe0>"
            ]
          },
          "metadata": {},
          "execution_count": 31
        },
        {
          "output_type": "display_data",
          "data": {
            "text/plain": [
              "<Figure size 432x288 with 1 Axes>"
            ],
            "image/png": "[encoded data removed]"
          },
          "metadata": {}
        }
      ]
    },
    {
      "cell_type": "code",
      "source": [
        "df['Wealth Segment'].value_counts()"
      ],
      "metadata": {
        "colab": {
          "base_uri": "https://localhost:8080/"
        },
        "id": "77VMRFKIvww2",
        "outputId": "66a0201f-965a-40b2-acd7-bb848a5b31c4"
      },
      "execution_count": 32,
      "outputs": [
        {
          "output_type": "execute_result",
          "data": {
            "text/plain": [
              "Mass Customer        362\n",
              "High Net Worth       180\n",
              "Affluent Customer    173\n",
              "Name: Wealth Segment, dtype: int64"
            ]
          },
          "metadata": {},
          "execution_count": 32
        }
      ]
    },
    {
      "cell_type": "markdown",
      "source": [
        "Dilihat dari Wealth Segment, customer yang paling banyak adalah dari kalangan Mass Customer, kedua dari kalangan High Net Worth, ketiga dari kalangan Affluent Customer "
      ],
      "metadata": {
        "id": "nUqv0CE0wAKj"
      }
    },
    {
      "cell_type": "code",
      "source": [
        "#Owns Car Analysis\n",
        "df['Owns Car'].value_counts().plot(kind='bar')"
      ],
      "metadata": {
        "colab": {
          "base_uri": "https://localhost:8080/",
          "height": 288
        },
        "id": "p_XWMglUwv7S",
        "outputId": "b7e0c11b-ceae-4322-c56f-e258ae693fe4"
      },
      "execution_count": 33,
      "outputs": [
        {
          "output_type": "execute_result",
          "data": {
            "text/plain": [
              "<matplotlib.axes._subplots.AxesSubplot at 0x7fd71af3e820>"
            ]
          },
          "metadata": {},
          "execution_count": 33
        },
        {
          "output_type": "display_data",
          "data": {
            "text/plain": [
              "<Figure size 432x288 with 1 Axes>"
            ],
            "image/png": "[encoded data removed]"
          },
          "metadata": {}
        }
      ]
    },
    {
      "cell_type": "code",
      "source": [
        "df['Owns Car'].value_counts()"
      ],
      "metadata": {
        "colab": {
          "base_uri": "https://localhost:8080/"
        },
        "id": "mPCoXnxrxF8B",
        "outputId": "f5e0e451-1792-46a8-b123-aa63fbf7f9a4"
      },
      "execution_count": 34,
      "outputs": [
        {
          "output_type": "execute_result",
          "data": {
            "text/plain": [
              "No     366\n",
              "Yes    349\n",
              "Name: Owns Car, dtype: int64"
            ]
          },
          "metadata": {},
          "execution_count": 34
        }
      ]
    },
    {
      "cell_type": "markdown",
      "source": [
        "Analisis : Ternyata customer yang lebih banyak adalah yang tidak memiliki mobil, mungkin karena pengeluaran jika memiliki mobil lebih besar daripada sepeda. Namun jika dilihat perbandingan jumlah customer yang tidak memiliki mobil dan memiliki mobil selisihnya tipis yaitu hanya 17."
      ],
      "metadata": {
        "id": "naTnyt2-xOEk"
      }
    },
    {
      "cell_type": "code",
      "source": [
        "#Tenure Analysis\n",
        "df['Tenure'].value_counts().plot(kind='bar')"
      ],
      "metadata": {
        "colab": {
          "base_uri": "https://localhost:8080/",
          "height": 285
        },
        "id": "jq3ZKJmqyKwp",
        "outputId": "18777837-eebf-416b-a8dc-cf91f835bc1a"
      },
      "execution_count": 35,
      "outputs": [
        {
          "output_type": "execute_result",
          "data": {
            "text/plain": [
              "<matplotlib.axes._subplots.AxesSubplot at 0x7fd71af14280>"
            ]
          },
          "metadata": {},
          "execution_count": 35
        },
        {
          "output_type": "display_data",
          "data": {
            "text/plain": [
              "<Figure size 432x288 with 1 Axes>"
            ],
            "image/png": "[encoded data removed]"
          },
          "metadata": {}
        }
      ]
    },
    {
      "cell_type": "code",
      "source": [
        "df['Tenure'].value_counts()"
      ],
      "metadata": {
        "colab": {
          "base_uri": "https://localhost:8080/"
        },
        "id": "2f6fUFwoymlw",
        "outputId": "eb2a7f41-5081-4fbb-98e0-5bf296dca5ee"
      },
      "execution_count": 36,
      "outputs": [
        {
          "output_type": "execute_result",
          "data": {
            "text/plain": [
              "9     56\n",
              "11    50\n",
              "13    48\n",
              "7     47\n",
              "12    45\n",
              "10    45\n",
              "17    44\n",
              "16    43\n",
              "8     42\n",
              "5     41\n",
              "15    41\n",
              "14    33\n",
              "6     32\n",
              "4     29\n",
              "18    24\n",
              "19    21\n",
              "20    17\n",
              "21    15\n",
              "3     14\n",
              "2     11\n",
              "22     9\n",
              "1      8\n",
              "Name: Tenure, dtype: int64"
            ]
          },
          "metadata": {},
          "execution_count": 36
        }
      ]
    },
    {
      "cell_type": "markdown",
      "source": [
        "Analisis : Ternyata lama jabatan tidak berkorelasi dengan tingginya jumlah customer. Data tidak menunjukkan bahwa semakin lama masa jabatan maka semakin banyak pembelian"
      ],
      "metadata": {
        "id": "bqOaFnIeywdL"
      }
    },
    {
      "cell_type": "code",
      "source": [
        "df[\"Postcode\"] = df[\"Postcode\"].astype(\"object\")"
      ],
      "metadata": {
        "id": "0P7HXhXnzgrV"
      },
      "execution_count": 39,
      "outputs": []
    },
    {
      "cell_type": "code",
      "source": [
        "df.dtypes"
      ],
      "metadata": {
        "colab": {
          "base_uri": "https://localhost:8080/"
        },
        "id": "uM4_naTK1GLe",
        "outputId": "d4c562bf-69f2-49c4-b991-6ce7177d1b5c"
      },
      "execution_count": 40,
      "outputs": [
        {
          "output_type": "execute_result",
          "data": {
            "text/plain": [
              "First Name             object\n",
              "Last Name              object\n",
              "Gender                 object\n",
              "Birthday               object\n",
              "Job                    object\n",
              "Industry               object\n",
              "Wealth Segment         object\n",
              "Owns Car               object\n",
              "Tenure                  int64\n",
              "Address                object\n",
              "Postcode               object\n",
              "State                  object\n",
              "Country                object\n",
              "Property Valuation      int64\n",
              "Rank                    int64\n",
              "Value                 float64\n",
              "dtype: object"
            ]
          },
          "metadata": {},
          "execution_count": 40
        }
      ]
    },
    {
      "cell_type": "code",
      "source": [
        "#Area Analysis\n",
        "df['State'].value_counts().plot(kind='bar')"
      ],
      "metadata": {
        "colab": {
          "base_uri": "https://localhost:8080/",
          "height": 296
        },
        "id": "XrEaoj-G1r0x",
        "outputId": "5c65c568-b016-4c31-893f-0d28605c1189"
      },
      "execution_count": 42,
      "outputs": [
        {
          "output_type": "execute_result",
          "data": {
            "text/plain": [
              "<matplotlib.axes._subplots.AxesSubplot at 0x7fd71a631c40>"
            ]
          },
          "metadata": {},
          "execution_count": 42
        },
        {
          "output_type": "display_data",
          "data": {
            "text/plain": [
              "<Figure size 432x288 with 1 Axes>"
            ],
            "image/png": "[encoded data removed]"
          },
          "metadata": {}
        }
      ]
    },
    {
      "cell_type": "code",
      "source": [
        "df['State'].value_counts()"
      ],
      "metadata": {
        "colab": {
          "base_uri": "https://localhost:8080/"
        },
        "id": "VVR7ZrtV3AAy",
        "outputId": "32777c88-c8be-40a8-f89b-0d3e2ae36661"
      },
      "execution_count": 43,
      "outputs": [
        {
          "output_type": "execute_result",
          "data": {
            "text/plain": [
              "NSW    352\n",
              "VIC    197\n",
              "QLD    166\n",
              "Name: State, dtype: int64"
            ]
          },
          "metadata": {},
          "execution_count": 43
        }
      ]
    },
    {
      "cell_type": "markdown",
      "source": [
        "Analisis : Customer terbanyak adalah dari wilayah NSW, kedua dari VIC, dan yang ketiga dari QLD"
      ],
      "metadata": {
        "id": "nJQuCMss3mgN"
      }
    },
    {
      "cell_type": "code",
      "source": [
        "#Area Analysis\n",
        "df['Property Valuation'].value_counts().plot(kind='bar')"
      ],
      "metadata": {
        "colab": {
          "base_uri": "https://localhost:8080/",
          "height": 285
        },
        "id": "wVBMCxsU441r",
        "outputId": "c1f2b047-c8b0-4fff-9645-377ab1148138"
      },
      "execution_count": 46,
      "outputs": [
        {
          "output_type": "execute_result",
          "data": {
            "text/plain": [
              "<matplotlib.axes._subplots.AxesSubplot at 0x7fd71a5d74f0>"
            ]
          },
          "metadata": {},
          "execution_count": 46
        },
        {
          "output_type": "display_data",
          "data": {
            "text/plain": [
              "<Figure size 432x288 with 1 Axes>"
            ],
            "image/png": "[encoded data removed]"
          },
          "metadata": {}
        }
      ]
    },
    {
      "cell_type": "code",
      "source": [
        "df['Property Valuation'].value_counts()"
      ],
      "metadata": {
        "colab": {
          "base_uri": "https://localhost:8080/"
        },
        "id": "xsapHZIC5Zvh",
        "outputId": "3282d2c7-5415-4772-98fd-b0a05104354a"
      },
      "execution_count": 47,
      "outputs": [
        {
          "output_type": "execute_result",
          "data": {
            "text/plain": [
              "9     123\n",
              "8     104\n",
              "7      96\n",
              "10     94\n",
              "6      52\n",
              "11     43\n",
              "5      40\n",
              "2      35\n",
              "4      35\n",
              "12     34\n",
              "3      34\n",
              "1      25\n",
              "Name: Property Valuation, dtype: int64"
            ]
          },
          "metadata": {},
          "execution_count": 47
        }
      ]
    },
    {
      "cell_type": "markdown",
      "source": [
        "Analisis : Ternyata tingginya property valuation yang dimiliki customer tidak berkorelasi dengan tingginya transaksi "
      ],
      "metadata": {
        "id": "AgA23ubA5miH"
      }
    }
  ]
}